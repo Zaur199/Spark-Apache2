{
  "nbformat": 4,
  "nbformat_minor": 0,
  "metadata": {
    "colab": {
      "provenance": []
    },
    "kernelspec": {
      "name": "python3",
      "display_name": "Python 3"
    },
    "language_info": {
      "name": "python"
    }
  },
  "cells": [
    {
      "cell_type": "markdown",
      "source": [
        "Условие: дана таблица с колонками (id, name, salary, managerId), студентам необходимо написать код на spark, который создаст эту таблицу (данные указаны ниже) и в результате выдаст таблицу в которой будут имена сотрудников, которые зарабатывают больше своих менеджеров.\n",
        "\n",
        "data = {'id': [1, 2, 3, 4], 'Name': ['Joe', 'Henry', 'Sam', 'Max'],\n",
        "        'Salary': ['70', '80', '60', '90'], 'ManagerId': ['3', '4', 'Null', 'Null']}\n",
        "      "
      ],
      "metadata": {
        "id": "1F8HvZrMAMBx"
      }
    },
    {
      "cell_type": "code",
      "source": [
        "from pyspark.sql import SparkSession\n",
        "import pyspark.sql.functions as F\n",
        "import pandas as pd"
      ],
      "metadata": {
        "id": "n4NXxtpxAXMt"
      },
      "execution_count": 9,
      "outputs": []
    },
    {
      "cell_type": "code",
      "source": [
        "# Создать SparkSession\n",
        "spark = SparkSession.builder.appName(\"Spark SQL Example\").getOrCreate()"
      ],
      "metadata": {
        "id": "fD7jdjTUBBPW"
      },
      "execution_count": 10,
      "outputs": []
    },
    {
      "cell_type": "code",
      "source": [
        "# Создать DataFrame из словаря данных\n",
        "data = {'id': [1, 2, 3, 4], 'Name': ['Joe', 'Henry', 'Sam', 'Max'],\n",
        "        'Salary': ['70', '80', '60', '90'], 'ManagerId': ['3', '4', 'Null', 'Null']}"
      ],
      "metadata": {
        "id": "D3ab4QHoBEo9"
      },
      "execution_count": 11,
      "outputs": []
    },
    {
      "cell_type": "code",
      "source": [
        "df = spark.createDataFrame(pd.DataFrame(data))\n",
        "df"
      ],
      "metadata": {
        "colab": {
          "base_uri": "https://localhost:8080/"
        },
        "id": "bAy4Z2brBeut",
        "outputId": "dee42290-494b-480e-a2fe-0a26901ee161"
      },
      "execution_count": 12,
      "outputs": [
        {
          "output_type": "execute_result",
          "data": {
            "text/plain": [
              "DataFrame[id: bigint, Name: string, Salary: string, ManagerId: string]"
            ]
          },
          "metadata": {},
          "execution_count": 12
        }
      ]
    },
    {
      "cell_type": "code",
      "source": [
        "# Заменить Null значения в ManagerId на 0\n",
        "df = df.withColumn(\"ManagerId\", F.coalesce(df.ManagerId, F.lit(0)))"
      ],
      "metadata": {
        "id": "LUTL9Ea9BiyJ"
      },
      "execution_count": 13,
      "outputs": []
    },
    {
      "cell_type": "code",
      "source": [
        "# Присоединить DataFrame к самому себе, чтобы сопоставить сотрудников с их менеджерами\n",
        "joined_df = df.alias(\"employees\").join(df.alias(\"managers\"), F.col(\"employees.ManagerId\") == F.col(\"managers.id\"), \"left\")"
      ],
      "metadata": {
        "id": "2Xh9EG5wBm0-"
      },
      "execution_count": 14,
      "outputs": []
    },
    {
      "cell_type": "code",
      "source": [
        "# Отфильтровать сотрудников, которые зарабатывают больше своих менеджеров\n",
        "result_df = joined_df.filter(F.col(\"employees.Salary\") > F.col(\"managers.Salary\"))"
      ],
      "metadata": {
        "id": "wcUuN9y_Bqhz"
      },
      "execution_count": 15,
      "outputs": []
    },
    {
      "cell_type": "code",
      "source": [
        "# Выбрать столбцы с именами сотрудников\n",
        "result_df = result_df.select(\"employees.Name\")"
      ],
      "metadata": {
        "id": "WfBm_7N3BvDe"
      },
      "execution_count": 16,
      "outputs": []
    },
    {
      "cell_type": "code",
      "source": [
        "# Вывести результат\n",
        "result_df.show()"
      ],
      "metadata": {
        "colab": {
          "base_uri": "https://localhost:8080/"
        },
        "id": "YB7AbqC2B2-i",
        "outputId": "66f1ca24-b079-4240-e1d2-d40ab4e628f7"
      },
      "execution_count": 17,
      "outputs": [
        {
          "output_type": "stream",
          "name": "stdout",
          "text": [
            "+----+\n",
            "|Name|\n",
            "+----+\n",
            "| Joe|\n",
            "+----+\n",
            "\n"
          ]
        }
      ]
    }
  ]
}